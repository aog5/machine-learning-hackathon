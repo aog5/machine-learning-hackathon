{
 "cells": [
  {
   "cell_type": "markdown",
   "metadata": {},
   "source": [
    "# Getting Started\n",
    "## Python Resources\n",
    "\n",
    "**Anaconda Python Distribution**\n",
    "https://www.anaconda.com/download/\n",
    "\n",
    "Includes nearly all relevant machine learning libraries for python including:\n",
    "* Numpy\n",
    "* Pandas\n",
    "* Scikit Learn\n",
    "* Seaborn\n",
    "* Matplotlib"
   ]
  },
  {
   "cell_type": "markdown",
   "metadata": {},
   "source": [
    "## Open Data Resources\n",
    "\n",
    "* UC Irvine Machine Learning Repository - https://archive.ics.uci.edu/ml/index.php\n",
    "* Engigma Public - https://public.enigma.com\n",
    "* Data.gov - https://www.data.gov\n",
    "* KDNuggets - https://www.kdnuggets.com/datasets/index.html\n",
    "* Google Dataset Search - https://toolbox.google.com/datasetsearch\n"
   ]
  },
  {
   "cell_type": "markdown",
   "metadata": {},
   "source": [
    "### Cheatsheets\n",
    "* https://www.datacamp.com/community/data-science-cheatsheets"
   ]
  },
  {
   "cell_type": "markdown",
   "metadata": {},
   "source": [
    "# Machine Learning Workflow"
   ]
  },
  {
   "cell_type": "markdown",
   "metadata": {},
   "source": [
    "![Scikit-Learn Algorithm Cheat Sheet](ml_map.png)"
   ]
  },
  {
   "cell_type": "code",
   "execution_count": null,
   "metadata": {},
   "outputs": [],
   "source": []
  }
 ],
 "metadata": {
  "kernelspec": {
   "display_name": "Python 3",
   "language": "python",
   "name": "python3"
  },
  "language_info": {
   "codemirror_mode": {
    "name": "ipython",
    "version": 3
   },
   "file_extension": ".py",
   "mimetype": "text/x-python",
   "name": "python",
   "nbconvert_exporter": "python",
   "pygments_lexer": "ipython3",
   "version": "3.6.6"
  }
 },
 "nbformat": 4,
 "nbformat_minor": 2
}
